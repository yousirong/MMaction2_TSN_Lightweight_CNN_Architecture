{
  "nbformat": 4,
  "nbformat_minor": 0,
  "metadata": {
    "colab": {
      "provenance": []
    },
    "kernelspec": {
      "name": "python3",
      "display_name": "Python 3"
    },
    "language_info": {
      "name": "python"
    }
  },
  "cells": [
    {
      "cell_type": "code",
      "source": [
        "from google.colab import drive\n",
        "drive.mount('/content/drive')"
      ],
      "metadata": {
        "colab": {
          "base_uri": "https://localhost:8080/"
        },
        "id": "a-FcjHTWNbwP",
        "outputId": "13d3027e-03c4-4286-caf5-c80279ca653a"
      },
      "execution_count": null,
      "outputs": [
        {
          "output_type": "stream",
          "name": "stdout",
          "text": [
            "Drive already mounted at /content/drive; to attempt to forcibly remount, call drive.mount(\"/content/drive\", force_remount=True).\n"
          ]
        }
      ]
    },
    {
      "cell_type": "code",
      "source": [
        "%pip install moviepy"
      ],
      "metadata": {
        "colab": {
          "base_uri": "https://localhost:8080/"
        },
        "id": "g--pbRwtNcqD",
        "outputId": "c5a070ff-3091-47da-b981-9eccbabb6a3e"
      },
      "execution_count": null,
      "outputs": [
        {
          "output_type": "stream",
          "name": "stdout",
          "text": [
            "Requirement already satisfied: moviepy in /usr/local/lib/python3.10/dist-packages (1.0.3)\n",
            "Requirement already satisfied: decorator<5.0,>=4.0.2 in /usr/local/lib/python3.10/dist-packages (from moviepy) (4.4.2)\n",
            "Requirement already satisfied: tqdm<5.0,>=4.11.2 in /usr/local/lib/python3.10/dist-packages (from moviepy) (4.66.1)\n",
            "Requirement already satisfied: requests<3.0,>=2.8.1 in /usr/local/lib/python3.10/dist-packages (from moviepy) (2.31.0)\n",
            "Requirement already satisfied: proglog<=1.0.0 in /usr/local/lib/python3.10/dist-packages (from moviepy) (0.1.10)\n",
            "Requirement already satisfied: numpy>=1.17.3 in /usr/local/lib/python3.10/dist-packages (from moviepy) (1.23.5)\n",
            "Requirement already satisfied: imageio<3.0,>=2.5 in /usr/local/lib/python3.10/dist-packages (from moviepy) (2.31.6)\n",
            "Requirement already satisfied: imageio-ffmpeg>=0.2.0 in /usr/local/lib/python3.10/dist-packages (from moviepy) (0.4.9)\n",
            "Requirement already satisfied: pillow<10.1.0,>=8.3.2 in /usr/local/lib/python3.10/dist-packages (from imageio<3.0,>=2.5->moviepy) (9.4.0)\n",
            "Requirement already satisfied: setuptools in /usr/local/lib/python3.10/dist-packages (from imageio-ffmpeg>=0.2.0->moviepy) (67.7.2)\n",
            "Requirement already satisfied: charset-normalizer<4,>=2 in /usr/local/lib/python3.10/dist-packages (from requests<3.0,>=2.8.1->moviepy) (3.3.2)\n",
            "Requirement already satisfied: idna<4,>=2.5 in /usr/local/lib/python3.10/dist-packages (from requests<3.0,>=2.8.1->moviepy) (3.4)\n",
            "Requirement already satisfied: urllib3<3,>=1.21.1 in /usr/local/lib/python3.10/dist-packages (from requests<3.0,>=2.8.1->moviepy) (2.0.7)\n",
            "Requirement already satisfied: certifi>=2017.4.17 in /usr/local/lib/python3.10/dist-packages (from requests<3.0,>=2.8.1->moviepy) (2023.7.22)\n"
          ]
        }
      ]
    },
    {
      "cell_type": "code",
      "source": [
        "from moviepy.editor import VideoFileClip, concatenate_videoclips\n"
      ],
      "metadata": {
        "id": "1V3fqUArOXmY"
      },
      "execution_count": null,
      "outputs": []
    },
    {
      "cell_type": "code",
      "source": [
        "def make_clip_video(path, save_path, start_t, end_t):\n",
        "    clip_video = VideoFileClip(path).subclip(str(start_t), str(end_t))\n",
        "    clip_video.write_videofile(save_path)"
      ],
      "metadata": {
        "id": "lCmuEiO6OeW6"
      },
      "execution_count": null,
      "outputs": []
    },
    {
      "cell_type": "code",
      "source": [],
      "metadata": {
        "id": "d4yvAQ1SS7mA"
      },
      "execution_count": null,
      "outputs": []
    },
    {
      "cell_type": "markdown",
      "source": [
        "## 1"
      ],
      "metadata": {
        "id": "mypV31eIbhnV"
      }
    },
    {
      "cell_type": "code",
      "source": [
        "make_clip_video('/content/drive/MyDrive/딥러닝2팀/allData/Youtube/Watch as cab robbery gets interrupted by police.mp4/Watch as cab robbery gets interrupted by police.mp4','/content/drive/MyDrive/딥러닝2팀/allData/Youtube_normal/Watch as cab robbery gets interrupted by police.mp4','00:00:23', '00:00:29')"
      ],
      "metadata": {
        "colab": {
          "base_uri": "https://localhost:8080/"
        },
        "id": "_0zvIKDgQR9p",
        "outputId": "c9ed0407-3e47-47c0-bcc0-31ecfc751f34"
      },
      "execution_count": null,
      "outputs": [
        {
          "output_type": "stream",
          "name": "stdout",
          "text": [
            "Moviepy - Building video /content/drive/MyDrive/딥러닝2팀/allData/Youtube_normal/Watch as cab robbery gets interrupted by police.mp4.\n",
            "MoviePy - Writing audio in Watch as cab robbery gets interrupted by policeTEMP_MPY_wvf_snd.mp3\n"
          ]
        },
        {
          "output_type": "stream",
          "name": "stderr",
          "text": []
        },
        {
          "output_type": "stream",
          "name": "stdout",
          "text": [
            "MoviePy - Done.\n",
            "Moviepy - Writing video /content/drive/MyDrive/딥러닝2팀/allData/Youtube_normal/Watch as cab robbery gets interrupted by police.mp4\n",
            "\n"
          ]
        },
        {
          "output_type": "stream",
          "name": "stderr",
          "text": []
        },
        {
          "output_type": "stream",
          "name": "stdout",
          "text": [
            "Moviepy - Done !\n",
            "Moviepy - video ready /content/drive/MyDrive/딥러닝2팀/allData/Youtube_normal/Watch as cab robbery gets interrupted by police.mp4\n"
          ]
        }
      ]
    },
    {
      "cell_type": "code",
      "source": [
        "make_clip_video('/content/drive/MyDrive/딥러닝2팀/allData/Youtube/Watch as cab robbery gets interrupted by police.mp4/Watch as cab robbery gets interrupted by police.mp4','/content/drive/MyDrive/딥러닝2팀/allData/Youtube_abnormal/Watch as cab robbery gets interrupted by police.mp4','00:00:07', '00:00:16')"
      ],
      "metadata": {
        "colab": {
          "base_uri": "https://localhost:8080/"
        },
        "id": "coSZTtGhQmGX",
        "outputId": "e46e6426-a9af-44a6-d1e2-44beae0d6aaa"
      },
      "execution_count": null,
      "outputs": [
        {
          "output_type": "stream",
          "name": "stdout",
          "text": [
            "Moviepy - Building video /content/drive/MyDrive/딥러닝2팀/allData/Youtube_abnormal/Watch as cab robbery gets interrupted by police.mp4.\n",
            "MoviePy - Writing audio in Watch as cab robbery gets interrupted by policeTEMP_MPY_wvf_snd.mp3\n"
          ]
        },
        {
          "output_type": "stream",
          "name": "stderr",
          "text": []
        },
        {
          "output_type": "stream",
          "name": "stdout",
          "text": [
            "MoviePy - Done.\n",
            "Moviepy - Writing video /content/drive/MyDrive/딥러닝2팀/allData/Youtube_abnormal/Watch as cab robbery gets interrupted by police.mp4\n",
            "\n"
          ]
        },
        {
          "output_type": "stream",
          "name": "stderr",
          "text": []
        },
        {
          "output_type": "stream",
          "name": "stdout",
          "text": [
            "Moviepy - Done !\n",
            "Moviepy - video ready /content/drive/MyDrive/딥러닝2팀/allData/Youtube_abnormal/Watch as cab robbery gets interrupted by police.mp4\n"
          ]
        }
      ]
    },
    {
      "cell_type": "code",
      "source": [],
      "metadata": {
        "id": "j0MT8Y38SqMl"
      },
      "execution_count": null,
      "outputs": []
    },
    {
      "cell_type": "markdown",
      "source": [
        "## 2"
      ],
      "metadata": {
        "id": "3ZNpOAu_bknq"
      }
    },
    {
      "cell_type": "code",
      "source": [
        "make_clip_video('/content/drive/MyDrive/딥러닝2팀/allData/Youtube/Video shows passenger attacking Uber driver.mp4/Video shows passenger attacking Uber driver.mp4','/content/drive/MyDrive/딥러닝2팀/allData/Youtube_normal/Video shows passenger attacking Uber driver.mp4','00:00:52', '00:01:03')"
      ],
      "metadata": {
        "colab": {
          "base_uri": "https://localhost:8080/"
        },
        "id": "_mSyoBh-S8fk",
        "outputId": "2cd8138d-895c-4d76-c3bb-e78b9a96c6b4"
      },
      "execution_count": null,
      "outputs": [
        {
          "output_type": "stream",
          "name": "stdout",
          "text": [
            "Moviepy - Building video /content/drive/MyDrive/딥러닝2팀/allData/Youtube_normal/Video shows passenger attacking Uber driver.mp4.\n",
            "MoviePy - Writing audio in Video shows passenger attacking Uber driverTEMP_MPY_wvf_snd.mp3\n"
          ]
        },
        {
          "output_type": "stream",
          "name": "stderr",
          "text": []
        },
        {
          "output_type": "stream",
          "name": "stdout",
          "text": [
            "MoviePy - Done.\n",
            "Moviepy - Writing video /content/drive/MyDrive/딥러닝2팀/allData/Youtube_normal/Video shows passenger attacking Uber driver.mp4\n",
            "\n"
          ]
        },
        {
          "output_type": "stream",
          "name": "stderr",
          "text": []
        },
        {
          "output_type": "stream",
          "name": "stdout",
          "text": [
            "Moviepy - Done !\n",
            "Moviepy - video ready /content/drive/MyDrive/딥러닝2팀/allData/Youtube_normal/Video shows passenger attacking Uber driver.mp4\n"
          ]
        }
      ]
    },
    {
      "cell_type": "code",
      "source": [
        "make_clip_video('/content/drive/MyDrive/딥러닝2팀/allData/Youtube/Video shows passenger attacking Uber driver.mp4/Video shows passenger attacking Uber driver.mp4','/content/drive/MyDrive/딥러닝2팀/allData/Youtube_abnormal/Video shows passenger attacking Uber driver.mp4','00:01:07', '00:01:15')"
      ],
      "metadata": {
        "colab": {
          "base_uri": "https://localhost:8080/"
        },
        "id": "HYfVqYlATO7h",
        "outputId": "c7f4b63f-7d39-4aa4-83d7-6046c4b713c7"
      },
      "execution_count": null,
      "outputs": [
        {
          "output_type": "stream",
          "name": "stdout",
          "text": [
            "Moviepy - Building video /content/drive/MyDrive/딥러닝2팀/allData/Youtube_abnormal/Video shows passenger attacking Uber driver.mp4.\n",
            "MoviePy - Writing audio in Video shows passenger attacking Uber driverTEMP_MPY_wvf_snd.mp3\n"
          ]
        },
        {
          "output_type": "stream",
          "name": "stderr",
          "text": []
        },
        {
          "output_type": "stream",
          "name": "stdout",
          "text": [
            "MoviePy - Done.\n",
            "Moviepy - Writing video /content/drive/MyDrive/딥러닝2팀/allData/Youtube_abnormal/Video shows passenger attacking Uber driver.mp4\n",
            "\n"
          ]
        },
        {
          "output_type": "stream",
          "name": "stderr",
          "text": []
        },
        {
          "output_type": "stream",
          "name": "stdout",
          "text": [
            "Moviepy - Done !\n",
            "Moviepy - video ready /content/drive/MyDrive/딥러닝2팀/allData/Youtube_abnormal/Video shows passenger attacking Uber driver.mp4\n"
          ]
        }
      ]
    },
    {
      "cell_type": "code",
      "source": [],
      "metadata": {
        "id": "cTNE7gvnUifS"
      },
      "execution_count": null,
      "outputs": []
    },
    {
      "cell_type": "markdown",
      "source": [
        "## 3"
      ],
      "metadata": {
        "id": "ppaHLIgRbmxM"
      }
    },
    {
      "cell_type": "code",
      "source": [
        "make_clip_video('/content/drive/MyDrive/딥러닝2팀/allData/Youtube/Video shows Lyft driver being pummeled by passenger in Queens.mp4/Video shows Lyft driver being pummeled by passenger in Queens.mp4','/content/drive/MyDrive/딥러닝2팀/allData/Youtube_normal/Video shows Lyft driver being pummeled by passenger in Queens.mp4','00:01:11', '00:01:16')"
      ],
      "metadata": {
        "colab": {
          "base_uri": "https://localhost:8080/"
        },
        "id": "JGLquQnXUi6z",
        "outputId": "342a859d-03cd-4cf3-fdb6-4091a62e7ba1"
      },
      "execution_count": null,
      "outputs": [
        {
          "output_type": "stream",
          "name": "stdout",
          "text": [
            "Moviepy - Building video /content/drive/MyDrive/딥러닝2팀/allData/Youtube_normal/Video shows Lyft driver being pummeled by passenger in Queens.mp4.\n",
            "MoviePy - Writing audio in Video shows Lyft driver being pummeled by passenger in QueensTEMP_MPY_wvf_snd.mp3\n"
          ]
        },
        {
          "output_type": "stream",
          "name": "stderr",
          "text": []
        },
        {
          "output_type": "stream",
          "name": "stdout",
          "text": [
            "MoviePy - Done.\n",
            "Moviepy - Writing video /content/drive/MyDrive/딥러닝2팀/allData/Youtube_normal/Video shows Lyft driver being pummeled by passenger in Queens.mp4\n",
            "\n"
          ]
        },
        {
          "output_type": "stream",
          "name": "stderr",
          "text": []
        },
        {
          "output_type": "stream",
          "name": "stdout",
          "text": [
            "Moviepy - Done !\n",
            "Moviepy - video ready /content/drive/MyDrive/딥러닝2팀/allData/Youtube_normal/Video shows Lyft driver being pummeled by passenger in Queens.mp4\n"
          ]
        }
      ]
    },
    {
      "cell_type": "code",
      "source": [
        "make_clip_video('/content/drive/MyDrive/딥러닝2팀/allData/Youtube/Video shows Lyft driver being pummeled by passenger in Queens.mp4/Video shows Lyft driver being pummeled by passenger in Queens.mp4','/content/drive/MyDrive/딥러닝2팀/allData/Youtube_abnormal/Video shows Lyft driver being pummeled by passenger in Queens.mp4','00:01:42', '00:01:50')"
      ],
      "metadata": {
        "colab": {
          "base_uri": "https://localhost:8080/"
        },
        "id": "0dCnY9KoUjG8",
        "outputId": "2bb62425-569c-4b4f-c1ab-276d4f980135"
      },
      "execution_count": null,
      "outputs": [
        {
          "output_type": "stream",
          "name": "stdout",
          "text": [
            "Moviepy - Building video /content/drive/MyDrive/딥러닝2팀/allData/Youtube_abnormal/Video shows Lyft driver being pummeled by passenger in Queens.mp4.\n",
            "MoviePy - Writing audio in Video shows Lyft driver being pummeled by passenger in QueensTEMP_MPY_wvf_snd.mp3\n"
          ]
        },
        {
          "output_type": "stream",
          "name": "stderr",
          "text": []
        },
        {
          "output_type": "stream",
          "name": "stdout",
          "text": [
            "MoviePy - Done.\n",
            "Moviepy - Writing video /content/drive/MyDrive/딥러닝2팀/allData/Youtube_abnormal/Video shows Lyft driver being pummeled by passenger in Queens.mp4\n",
            "\n"
          ]
        },
        {
          "output_type": "stream",
          "name": "stderr",
          "text": []
        },
        {
          "output_type": "stream",
          "name": "stdout",
          "text": [
            "Moviepy - Done !\n",
            "Moviepy - video ready /content/drive/MyDrive/딥러닝2팀/allData/Youtube_abnormal/Video shows Lyft driver being pummeled by passenger in Queens.mp4\n"
          ]
        }
      ]
    },
    {
      "cell_type": "code",
      "source": [],
      "metadata": {
        "id": "Mx_EfI_YWmON"
      },
      "execution_count": null,
      "outputs": []
    },
    {
      "cell_type": "markdown",
      "source": [
        "## 4"
      ],
      "metadata": {
        "id": "2IaJb10dbrJ1"
      }
    },
    {
      "cell_type": "code",
      "source": [
        "# make_clip_video('/content/drive/MyDrive/딥러닝2팀/allData/Youtube/Video captures Uber driver attacked while driving in Tampa.mp4/Video captures Uber driver attacked while driving in Tampa.mp4','/content/drive/MyDrive/딥러닝2팀/allData/Youtube_normal/Video captures Uber driver attacked while driving in Tampa.mp4','00:00:07', '00:00:16')"
      ],
      "metadata": {
        "id": "PURIGzphWmiT"
      },
      "execution_count": null,
      "outputs": []
    },
    {
      "cell_type": "code",
      "source": [
        "make_clip_video('/content/drive/MyDrive/딥러닝2팀/allData/Youtube/Video captures Uber driver attacked while driving in Tampa.mp4/Video captures Uber driver attacked while driving in Tampa.mp4','/content/drive/MyDrive/딥러닝2팀/allData/Youtube_abnormal/Video captures Uber driver attacked while driving in Tampa.mp4','00:00:01', '00:00:16')"
      ],
      "metadata": {
        "id": "s0Vk4g51W2N4",
        "colab": {
          "base_uri": "https://localhost:8080/"
        },
        "outputId": "b21ab658-addd-46fb-ad79-ee5cc013c772"
      },
      "execution_count": null,
      "outputs": [
        {
          "metadata": {
            "tags": null
          },
          "name": "stdout",
          "output_type": "stream",
          "text": [
            "Moviepy - Building video /content/drive/MyDrive/딥러닝2팀/allData/Youtube_abnormal/Video captures Uber driver attacked while driving in Tampa.mp4.\n",
            "MoviePy - Writing audio in Video captures Uber driver attacked while driving in TampaTEMP_MPY_wvf_snd.mp3\n"
          ]
        },
        {
          "metadata": {
            "tags": null
          },
          "name": "stderr",
          "output_type": "stream",
          "text": [
            ""
          ]
        },
        {
          "metadata": {
            "tags": null
          },
          "name": "stdout",
          "output_type": "stream",
          "text": [
            "MoviePy - Done.\n",
            "Moviepy - Writing video /content/drive/MyDrive/딥러닝2팀/allData/Youtube_abnormal/Video captures Uber driver attacked while driving in Tampa.mp4\n",
            "\n"
          ]
        },
        {
          "output_type": "stream",
          "name": "stderr",
          "text": []
        },
        {
          "output_type": "stream",
          "name": "stdout",
          "text": [
            "Moviepy - Done !\n",
            "Moviepy - video ready /content/drive/MyDrive/딥러닝2팀/allData/Youtube_abnormal/Video captures Uber driver attacked while driving in Tampa.mp4\n"
          ]
        }
      ]
    },
    {
      "cell_type": "code",
      "source": [],
      "metadata": {
        "id": "Agbr8tKUY1jS"
      },
      "execution_count": null,
      "outputs": []
    },
    {
      "cell_type": "markdown",
      "source": [
        "## 5"
      ],
      "metadata": {
        "id": "hXHq0sNTbvt-"
      }
    },
    {
      "cell_type": "code",
      "source": [
        "# make_clip_video('/content/drive/MyDrive/딥러닝2팀/allData/Youtube/Uber driver attacked on camera.mp4/Uber driver attacked on camera.mp4','/content/drive/MyDrive/딥러닝2팀/allData/Youtube_normal/Uber driver attacked on camera.mp4','00:00:07', '00:00:16')"
      ],
      "metadata": {
        "id": "I0JCYI5cXS8R"
      },
      "execution_count": null,
      "outputs": []
    },
    {
      "cell_type": "code",
      "source": [
        "make_clip_video('/content/drive/MyDrive/딥러닝2팀/allData/Youtube/Uber driver attacked on camera.mp4/Uber driver attacked on camera.mp4','/content/drive/MyDrive/딥러닝2팀/allData/Youtube_abnormal/Uber driver attacked on camera.mp4','00:00:12', '00:00:28')"
      ],
      "metadata": {
        "id": "6VviaWYaXTFO",
        "colab": {
          "base_uri": "https://localhost:8080/"
        },
        "outputId": "4c3080b1-5b87-42ce-b135-a9a83a3e24fd"
      },
      "execution_count": null,
      "outputs": [
        {
          "output_type": "stream",
          "name": "stdout",
          "text": [
            "Moviepy - Building video /content/drive/MyDrive/딥러닝2팀/allData/Youtube_abnormal/Uber driver attacked on camera.mp4.\n",
            "MoviePy - Writing audio in Uber driver attacked on cameraTEMP_MPY_wvf_snd.mp3\n"
          ]
        },
        {
          "output_type": "stream",
          "name": "stderr",
          "text": []
        },
        {
          "output_type": "stream",
          "name": "stdout",
          "text": [
            "MoviePy - Done.\n",
            "Moviepy - Writing video /content/drive/MyDrive/딥러닝2팀/allData/Youtube_abnormal/Uber driver attacked on camera.mp4\n",
            "\n"
          ]
        },
        {
          "output_type": "stream",
          "name": "stderr",
          "text": []
        },
        {
          "output_type": "stream",
          "name": "stdout",
          "text": [
            "Moviepy - Done !\n",
            "Moviepy - video ready /content/drive/MyDrive/딥러닝2팀/allData/Youtube_abnormal/Uber driver attacked on camera.mp4\n"
          ]
        }
      ]
    },
    {
      "cell_type": "markdown",
      "source": [],
      "metadata": {
        "id": "zUilItbgTVgH"
      }
    },
    {
      "cell_type": "markdown",
      "source": [
        "## 6"
      ],
      "metadata": {
        "id": "HUz9wIIBbyqZ"
      }
    },
    {
      "cell_type": "code",
      "source": [
        "make_clip_video('/content/drive/MyDrive/딥러닝2팀/allData/Youtube/Uber driver attacked by passenger in Abbotsford, B.C..mp4/Uber driver attacked by passenger in Abbotsford BC.mp4','/content/drive/MyDrive/딥러닝2팀/allData/Youtube_normal/Uber driver attacked by passenger in Abbotsford BC.mp4','00:01:15', '00:01:16')"
      ],
      "metadata": {
        "colab": {
          "base_uri": "https://localhost:8080/"
        },
        "id": "FfcntMINaDhh",
        "outputId": "d71dd62a-b07b-4f4b-9252-e537653fb015"
      },
      "execution_count": null,
      "outputs": [
        {
          "output_type": "stream",
          "name": "stdout",
          "text": [
            "Moviepy - Building video /content/drive/MyDrive/딥러닝2팀/allData/Youtube_normal/Uber driver attacked by passenger in Abbotsford BC.mp4.\n",
            "MoviePy - Writing audio in Uber driver attacked by passenger in Abbotsford BCTEMP_MPY_wvf_snd.mp3\n"
          ]
        },
        {
          "output_type": "stream",
          "name": "stderr",
          "text": []
        },
        {
          "output_type": "stream",
          "name": "stdout",
          "text": [
            "MoviePy - Done.\n",
            "Moviepy - Writing video /content/drive/MyDrive/딥러닝2팀/allData/Youtube_normal/Uber driver attacked by passenger in Abbotsford BC.mp4\n",
            "\n"
          ]
        },
        {
          "output_type": "stream",
          "name": "stderr",
          "text": []
        },
        {
          "output_type": "stream",
          "name": "stdout",
          "text": [
            "Moviepy - Done !\n",
            "Moviepy - video ready /content/drive/MyDrive/딥러닝2팀/allData/Youtube_normal/Uber driver attacked by passenger in Abbotsford BC.mp4\n"
          ]
        }
      ]
    },
    {
      "cell_type": "code",
      "source": [
        "make_clip_video('/content/drive/MyDrive/딥러닝2팀/allData/Youtube/Uber driver attacked by passenger in Abbotsford, B.C..mp4/Uber driver attacked by passenger in Abbotsford BC.mp4','/content/drive/MyDrive/딥러닝2팀/allData/Youtube_abnormal/Uber driver attacked by passenger in Abbotsford BC.mp4','00:00:52', '00:00:57')"
      ],
      "metadata": {
        "colab": {
          "base_uri": "https://localhost:8080/"
        },
        "id": "2ZJo9uMWZyUT",
        "outputId": "707a861f-edb7-4f37-b9cf-d88818446a63"
      },
      "execution_count": null,
      "outputs": [
        {
          "output_type": "stream",
          "name": "stdout",
          "text": [
            "Moviepy - Building video /content/drive/MyDrive/딥러닝2팀/allData/Youtube_abnormal/Uber driver attacked by passenger in Abbotsford BC.mp4.\n",
            "MoviePy - Writing audio in Uber driver attacked by passenger in Abbotsford BCTEMP_MPY_wvf_snd.mp3\n"
          ]
        },
        {
          "output_type": "stream",
          "name": "stderr",
          "text": []
        },
        {
          "output_type": "stream",
          "name": "stdout",
          "text": [
            "MoviePy - Done.\n",
            "Moviepy - Writing video /content/drive/MyDrive/딥러닝2팀/allData/Youtube_abnormal/Uber driver attacked by passenger in Abbotsford BC.mp4\n",
            "\n"
          ]
        },
        {
          "output_type": "stream",
          "name": "stderr",
          "text": []
        },
        {
          "output_type": "stream",
          "name": "stdout",
          "text": [
            "Moviepy - Done !\n",
            "Moviepy - video ready /content/drive/MyDrive/딥러닝2팀/allData/Youtube_abnormal/Uber driver attacked by passenger in Abbotsford BC.mp4\n"
          ]
        }
      ]
    },
    {
      "cell_type": "code",
      "source": [],
      "metadata": {
        "id": "HASXNBfJa8z1"
      },
      "execution_count": null,
      "outputs": []
    },
    {
      "cell_type": "markdown",
      "source": [
        "## 7"
      ],
      "metadata": {
        "id": "-oX6PCTlb0XL"
      }
    },
    {
      "cell_type": "code",
      "source": [
        "make_clip_video('/content/drive/MyDrive/딥러닝2팀/allData/Youtube/Uber Driver Attacked and Coughed On by Angry Passenger.mp4/Uber Driver Attacked and Coughed On by Angry Passenger.mp4','/content/drive/MyDrive/딥러닝2팀/allData/Youtube_normal/Uber Driver Attacked and Coughed On by Angry Passenger.mp4','00:00:21', '00:00:23')"
      ],
      "metadata": {
        "colab": {
          "base_uri": "https://localhost:8080/"
        },
        "id": "LVmL1W56a8mP",
        "outputId": "642356ff-3c9d-4c73-c53a-b263c7e89a51"
      },
      "execution_count": null,
      "outputs": [
        {
          "output_type": "stream",
          "name": "stdout",
          "text": [
            "Moviepy - Building video /content/drive/MyDrive/딥러닝2팀/allData/Youtube_normal/Uber Driver Attacked and Coughed On by Angry Passenger.mp4.\n",
            "MoviePy - Writing audio in Uber Driver Attacked and Coughed On by Angry PassengerTEMP_MPY_wvf_snd.mp3\n"
          ]
        },
        {
          "output_type": "stream",
          "name": "stderr",
          "text": []
        },
        {
          "output_type": "stream",
          "name": "stdout",
          "text": [
            "MoviePy - Done.\n",
            "Moviepy - Writing video /content/drive/MyDrive/딥러닝2팀/allData/Youtube_normal/Uber Driver Attacked and Coughed On by Angry Passenger.mp4\n",
            "\n"
          ]
        },
        {
          "output_type": "stream",
          "name": "stderr",
          "text": []
        },
        {
          "output_type": "stream",
          "name": "stdout",
          "text": [
            "Moviepy - Done !\n",
            "Moviepy - video ready /content/drive/MyDrive/딥러닝2팀/allData/Youtube_normal/Uber Driver Attacked and Coughed On by Angry Passenger.mp4\n"
          ]
        }
      ]
    },
    {
      "cell_type": "code",
      "source": [
        "make_clip_video('/content/drive/MyDrive/딥러닝2팀/allData/Youtube/Uber Driver Attacked and Coughed On by Angry Passenger.mp4/Uber Driver Attacked and Coughed On by Angry Passenger.mp4','/content/drive/MyDrive/딥러닝2팀/allData/Youtube_abnormal/Uber Driver Attacked and Coughed On by Angry Passenger.mp4','00:00:13', '00:00:30')"
      ],
      "metadata": {
        "colab": {
          "base_uri": "https://localhost:8080/"
        },
        "id": "mvdneojKarlz",
        "outputId": "f4599714-d16a-48d4-cd12-ec37368ad0aa"
      },
      "execution_count": null,
      "outputs": [
        {
          "output_type": "stream",
          "name": "stdout",
          "text": [
            "Moviepy - Building video /content/drive/MyDrive/딥러닝2팀/allData/Youtube_abnormal/Uber Driver Attacked and Coughed On by Angry Passenger.mp4.\n",
            "MoviePy - Writing audio in Uber Driver Attacked and Coughed On by Angry PassengerTEMP_MPY_wvf_snd.mp3\n"
          ]
        },
        {
          "output_type": "stream",
          "name": "stderr",
          "text": []
        },
        {
          "output_type": "stream",
          "name": "stdout",
          "text": [
            "MoviePy - Done.\n",
            "Moviepy - Writing video /content/drive/MyDrive/딥러닝2팀/allData/Youtube_abnormal/Uber Driver Attacked and Coughed On by Angry Passenger.mp4\n",
            "\n"
          ]
        },
        {
          "output_type": "stream",
          "name": "stderr",
          "text": []
        },
        {
          "output_type": "stream",
          "name": "stdout",
          "text": [
            "Moviepy - Done !\n",
            "Moviepy - video ready /content/drive/MyDrive/딥러닝2팀/allData/Youtube_abnormal/Uber Driver Attacked and Coughed On by Angry Passenger.mp4\n"
          ]
        }
      ]
    },
    {
      "cell_type": "code",
      "source": [],
      "metadata": {
        "id": "Z0sd7KgKbeek"
      },
      "execution_count": null,
      "outputs": []
    }
  ]
}